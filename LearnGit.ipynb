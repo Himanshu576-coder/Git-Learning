{
  "metadata": {
    "kernelspec": {
      "name": "python",
      "display_name": "Python (Pyodide)",
      "language": "python"
    },
    "language_info": {
      "codemirror_mode": {
        "name": "python",
        "version": 3
      },
      "file_extension": ".py",
      "mimetype": "text/x-python",
      "name": "python",
      "nbconvert_exporter": "python",
      "pygments_lexer": "ipython3",
      "version": "3.8"
    }
  },
  "nbformat_minor": 5,
  "nbformat": 4,
  "cells": [
    {
      "id": "50574b26-06f7-4710-a520-18f60a1ea937",
      "cell_type": "markdown",
      "source": "# GitHub Basics\n\n- The **SSH** protocol is a method for secure remote login from one computer to another. \n\n- A **repository** contains your project folders that are set up for version control. \n\n- A **fork** is a copy of a repository. A pull request is the way you request that someone reviews and ap proves your changes before they become final.\n\n* A **working directory** contains the files and subdirectories on your computer that are associated with a Git repository\n\n* **Pull requests** are a means of collaboration on GitHub. When you open a pull request, you propose your changes.",
      "metadata": {}
    },
    {
      "id": "3ed101a0-7eda-4f07-be37-b3bb747838d7",
      "cell_type": "markdown",
      "source": "When starting out with a new repository, you only need create it once, either locally and then push to GitHub or by cloning an existing repository by using the command <code>git clone</code>.\n\n<code>git add</code> moves changes from the working directory to the staging area. \n\n<code>git status </code>  allows you to see the state of your working directory and the staged snapshot of your changes. \n\n<code>git commit </code> takes your staged snapshot of changes and commits them to the project. \n\n<code>git reset </code> undoes changes that you've made to the files in your working directory. \n\n<code>git log </code> enables you to browse previous changes to a project.\n\n<code>git branch </code> lets you create an isolated environment within your repository to make changes, without changing the main document. \n\n<code>git checkout </code> lets you see and change existing branches.\n\n<code>git merge </code> lets you put everything back together again. \n\nMore can be found at <https://training.github.com/downloads/github-git-cheat-sheet/>",
      "metadata": {}
    },
    {
      "id": "eb637537-e4bc-4065-a2bb-e3fe715604b4",
      "cell_type": "markdown",
      "source": "create a new local repository using git init\n\ncreate and add a file to the repo using git add\n\ncommit changes using git commit\n\ncreate a branch using git branch\n\nswitch to a branch using git checkout\n\ncheck the status of files changed using git status\n\nreview recent commits using git log\n\nrevert changes using git revert\n\nget a list of branches and active branch using git branch\n\nmerge changes in your active branch into another branch using git merge",
      "metadata": {}
    }
  ]
}